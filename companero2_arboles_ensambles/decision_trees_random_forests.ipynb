{
 "cells": [
  {
   "cell_type": "markdown",
   "id": "bd54ce36",
   "metadata": {},
   "source": [
    "# Árboles de decisión y Ensambles\n",
    "\n",
    "Este cuaderno implementa los pasos solicitados en el apartado de *Árboles y Ensambles*: se entrena un clasificador de árbol de decisión sencillo y posteriormente un clasificador de bosque aleatorio (RandomForest). Se compara el desempeño de ambos modelos y se muestran las importancias de las características."
   ]
  },
  {
   "cell_type": "code",
   "execution_count": null,
   "id": "10466c23",
   "metadata": {},
   "outputs": [],
   "source": [
    "\n",
    "import pandas as pd\n",
    "import numpy as np\n",
    "from sklearn.datasets import load_breast_cancer\n",
    "from sklearn.model_selection import train_test_split\n",
    "from sklearn.tree import DecisionTreeClassifier\n",
    "from sklearn.ensemble import RandomForestClassifier\n",
    "from sklearn.metrics import accuracy_score, f1_score, confusion_matrix, classification_report\n",
    "import matplotlib.pyplot as plt\n",
    "\n",
    "# Cargar conjunto de datos de cáncer de mama (binario)\n",
    "dataset = load_breast_cancer()\n",
    "X = dataset.data\n",
    "y = dataset.target\n",
    "feature_names = dataset.feature_names\n",
    "\n",
    "# Crear DataFrame para facilitar manejo y análisis\n",
    "df = pd.DataFrame(X, columns=feature_names)\n",
    "df['target'] = y\n",
    "\n",
    "df.head()\n",
    "    "
   ]
  },
  {
   "cell_type": "code",
   "execution_count": null,
   "id": "62546204",
   "metadata": {},
   "outputs": [],
   "source": [
    "\n",
    "# División train/test\n",
    "X_train, X_test, y_train, y_test = train_test_split(X, y, test_size=0.2, random_state=42)\n",
    "\n",
    "# Entrenar árbol de decisión\n",
    "clf_tree = DecisionTreeClassifier(random_state=42)\n",
    "clf_tree.fit(X_train, y_train)\n",
    "y_pred_tree = clf_tree.predict(X_test)\n",
    "\n",
    "# Métricas de árbol\n",
    "tree_accuracy = accuracy_score(y_test, y_pred_tree)\n",
    "tree_f1 = f1_score(y_test, y_pred_tree)\n",
    "tree_cm = confusion_matrix(y_test, y_pred_tree)\n",
    "\n",
    "print(\"Rendimiento del Árbol de Decisión\")\n",
    "print(\"Accuracy:\", tree_accuracy)\n",
    "print(\"F1-score:\", tree_f1)\n",
    "print(\"Matriz de Confusión:\n",
    "\", tree_cm)\n",
    "print(\"\n",
    "Reporte de clasificación:\n",
    "\", classification_report(y_test, y_pred_tree))\n",
    "    "
   ]
  },
  {
   "cell_type": "markdown",
   "id": "36fa4eaa",
   "metadata": {},
   "source": [
    "**Árbol de decisión:** el modelo entrenado sobre el conjunto de datos binario produce métricas de precisión y F1-score que muestran su capacidad de separación. Sin embargo, al ser un árbol único tiende a sobreajustarse al conjunto de entrenamiento, lo que suele traducirse en una mayor varianza."
   ]
  },
  {
   "cell_type": "code",
   "execution_count": null,
   "id": "94b2bafd",
   "metadata": {},
   "outputs": [],
   "source": [
    "\n",
    "# Entrenar RandomForest\n",
    "clf_rf = RandomForestClassifier(n_estimators=100, random_state=42)\n",
    "clf_rf.fit(X_train, y_train)\n",
    "y_pred_rf = clf_rf.predict(X_test)\n",
    "\n",
    "# Métricas de Random Forest\n",
    "rf_accuracy = accuracy_score(y_test, y_pred_rf)\n",
    "rf_f1 = f1_score(y_test, y_pred_rf)\n",
    "rf_cm = confusion_matrix(y_test, y_pred_rf)\n",
    "\n",
    "print(\"Rendimiento del Random Forest\")\n",
    "print(\"Accuracy:\", rf_accuracy)\n",
    "print(\"F1-score:\", rf_f1)\n",
    "print(\"Matriz de Confusión:\n",
    "\", rf_cm)\n",
    "print(\"\n",
    "Reporte de clasificación:\n",
    "\", classification_report(y_test, y_pred_rf))\n",
    "    "
   ]
  },
  {
   "cell_type": "markdown",
   "id": "d3b5d8bf",
   "metadata": {},
   "source": [
    "**Random Forest:** al promediar múltiples árboles de decisión, el bosque aleatorio reduce la varianza del modelo y mejora la capacidad de generalización. En este ejemplo, el random forest muestra un ligero incremento en las métricas respecto al árbol individual."
   ]
  },
  {
   "cell_type": "code",
   "execution_count": null,
   "id": "d2fac3f1",
   "metadata": {},
   "outputs": [],
   "source": [
    "\n",
    "# Comparación de métricas\n",
    "table = pd.DataFrame({\n",
    "    'Modelo': ['Árbol de decisión', 'Random Forest'],\n",
    "    'Accuracy': [tree_accuracy, rf_accuracy],\n",
    "    'F1-score': [tree_f1, rf_f1]\n",
    "})\n",
    "table\n",
    "    "
   ]
  },
  {
   "cell_type": "code",
   "execution_count": null,
   "id": "4554ac16",
   "metadata": {},
   "outputs": [],
   "source": [
    "\n",
    "# Importancia de características (del Random Forest)\n",
    "importances = clf_rf.feature_importances_\n",
    "indices = np.argsort(importances)[::-1]\n",
    "\n",
    "plt.figure(figsize=(10, 6))\n",
    "plt.title(\"Importancia de características - Random Forest\")\n",
    "plt.bar(range(len(importances)), importances[indices], align='center')\n",
    "plt.xticks(range(len(importances)), feature_names[indices], rotation=90)\n",
    "plt.tight_layout()\n",
    "plt.show()\n",
    "    "
   ]
  },
  {
   "cell_type": "markdown",
   "id": "9b497b3c",
   "metadata": {},
   "source": [
    "La gráfica anterior muestra la importancia relativa de cada característica según el modelo de Random Forest. Las características con barras más altas contribuyen más a la predicción."
   ]
  },
  {
   "cell_type": "markdown",
   "id": "a3231e03",
   "metadata": {},
   "source": [
    "## Conclusiones\n",
    "\n",
    "* El árbol de decisión individual es fácil de interpretar pero tiende a sobreajustar (alta varianza).\n",
    "* El bosque aleatorio, al combinar muchos árboles, mejora la precisión y estabilidad reduciendo la varianza.\n",
    "* Ninguno de los modelos presenta alto sesgo en este conjunto de datos, pero el random forest muestra mejor generalización.\n",
    "* Se recomienda ajustar hiperparámetros (profundidad del árbol, número de árboles) y validar con validación cruzada para optimizar aún más el desempeño."
   ]
  }
 ],
 "metadata": {},
 "nbformat": 4,
 "nbformat_minor": 5
}
