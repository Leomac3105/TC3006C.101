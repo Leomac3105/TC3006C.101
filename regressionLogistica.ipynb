{
 "cells": [
  {
   "cell_type": "markdown",
   "id": "91e735ff",
   "metadata": {},
   "source": [
    "## Seleccion de caracteristicas"
   ]
  },
  {
   "cell_type": "code",
   "execution_count": 1,
   "id": "7b5f74e1",
   "metadata": {},
   "outputs": [
    {
     "name": "stdout",
     "output_type": "stream",
     "text": [
      "Características seleccionadas por Lasso: Index(['income', 'name_email_similarity', 'prev_address_months_count',\n",
      "       'current_address_months_count', 'customer_age', 'days_since_request',\n",
      "       'intended_balcon_amount', 'zip_count_4w', 'velocity_4w',\n",
      "       'bank_branch_count_8w', 'date_of_birth_distinct_emails_4w',\n",
      "       'credit_risk_score', 'email_is_free', 'phone_home_valid',\n",
      "       'phone_mobile_valid', 'bank_months_count', 'has_other_cards',\n",
      "       'proposed_credit_limit', 'foreign_request', 'session_length_in_minutes',\n",
      "       'keep_alive_session', 'device_distinct_emails_8w', 'month',\n",
      "       'prev_address_unknown', 'bank_months_unknown', 'payment_type_AB',\n",
      "       'payment_type_AC', 'payment_type_AD', 'payment_type_AE',\n",
      "       'employment_status_CB', 'employment_status_CC', 'employment_status_CD',\n",
      "       'employment_status_CE', 'employment_status_CF', 'employment_status_CG',\n",
      "       'housing_status_BB', 'housing_status_BC', 'housing_status_BD',\n",
      "       'housing_status_BE', 'housing_status_BF', 'housing_status_BG',\n",
      "       'source_TELEAPP', 'device_os_macintosh', 'device_os_other',\n",
      "       'device_os_windows', 'device_os_x11'],\n",
      "      dtype='object')\n"
     ]
    }
   ],
   "source": [
    "import pandas as pd\n",
    "import numpy as np\n",
    "from sklearn.linear_model import LogisticRegression\n",
    "from sklearn.preprocessing import StandardScaler\n",
    "from sklearn.model_selection import train_test_split\n",
    "\n",
    "# Carga el dataset procesado\n",
    "df = pd.read_csv('Base_procesado.csv')\n",
    "\n",
    "# Asumiendo que df_processed es tu dataframe limpio\n",
    "X = df.drop('fraud_bool', axis=1)\n",
    "y = df['fraud_bool']\n",
    "\n",
    "# IMPORTANTE: Divide tus datos ANTES de cualquier otro paso\n",
    "X_train, X_test, y_train, y_test = train_test_split(X, y, test_size=0.3, random_state=42, stratify=y)\n",
    "\n",
    "# Escala los datos (después de dividir)\n",
    "scaler = StandardScaler()\n",
    "X_train_scaled = scaler.fit_transform(X_train)\n",
    "\n",
    "# Entrena el modelo Lasso (C pequeño = regularización fuerte)\n",
    "lasso_model = LogisticRegression(penalty='l1', C=0.1, solver='liblinear', class_weight='balanced')\n",
    "lasso_model.fit(X_train_scaled, y_train)\n",
    "\n",
    "# Muestra las características que NO fueron eliminadas\n",
    "important_features = X.columns[lasso_model.coef_[0] != 0]\n",
    "print(\"Características seleccionadas por Lasso:\", important_features)"
   ]
  },
  {
   "cell_type": "code",
   "execution_count": 2,
   "id": "a16cb4ca",
   "metadata": {},
   "outputs": [
    {
     "name": "stderr",
     "output_type": "stream",
     "text": [
      "c:\\Users\\edosa\\anaconda3\\Lib\\site-packages\\joblib\\externals\\loky\\backend\\context.py:136: UserWarning: Could not find the number of physical cores for the following reason:\n",
      "[WinError 2] The system cannot find the file specified\n",
      "Returning the number of logical cores instead. You can silence this warning by setting LOKY_MAX_CPU_COUNT to the number of cores you want to use.\n",
      "  warnings.warn(\n",
      "  File \"c:\\Users\\edosa\\anaconda3\\Lib\\site-packages\\joblib\\externals\\loky\\backend\\context.py\", line 257, in _count_physical_cores\n",
      "    cpu_info = subprocess.run(\n",
      "               ^^^^^^^^^^^^^^^\n",
      "  File \"c:\\Users\\edosa\\anaconda3\\Lib\\subprocess.py\", line 548, in run\n",
      "    with Popen(*popenargs, **kwargs) as process:\n",
      "         ^^^^^^^^^^^^^^^^^^^^^^^^^^^\n",
      "  File \"c:\\Users\\edosa\\anaconda3\\Lib\\subprocess.py\", line 1026, in __init__\n",
      "    self._execute_child(args, executable, preexec_fn, close_fds,\n",
      "  File \"c:\\Users\\edosa\\anaconda3\\Lib\\subprocess.py\", line 1538, in _execute_child\n",
      "    hp, ht, pid, tid = _winapi.CreateProcess(executable, args,\n",
      "                       ^^^^^^^^^^^^^^^^^^^^^^^^^^^^^^^^^^^^^^^\n"
     ]
    }
   ],
   "source": [
    "from imblearn.over_sampling import SMOTE\n",
    "\n",
    "# OJO: SMOTE se aplica SOLAMENTE al conjunto de entrenamiento\n",
    "smote = SMOTE(random_state=42)\n",
    "X_train_resampled, y_train_resampled = smote.fit_resample(X_train_scaled, y_train)\n",
    "\n",
    "# Ahora, entrenarías tu modelo usando X_train_resampled y y_train_resampled\n",
    "# Entrena el modelo con los datos balanceados\n",
    "model = LogisticRegression(penalty='l1', C=0.1, solver='liblinear', class_weight='balanced', random_state=42)\n",
    "model.fit(X_train_resampled, y_train_resampled)\n",
    "\n",
    "# Escala X_test igual que X_train (ya lo hiciste antes)\n",
    "X_test_scaled = scaler.transform(X_test)"
   ]
  },
  {
   "cell_type": "code",
   "execution_count": 3,
   "id": "41ae4539",
   "metadata": {},
   "outputs": [
    {
     "data": {
      "image/png": "[encoded data removed]",
      "text/plain": [
       "<Figure size 640x480 with 2 Axes>"
      ]
     },
     "metadata": {},
     "output_type": "display_data"
    }
   ],
   "source": [
    "from sklearn.metrics import confusion_matrix, classification_report\n",
    "import seaborn as sns\n",
    "import matplotlib.pyplot as plt\n",
    "\n",
    "# Asumiendo que 'model' es tu regresión logística ya entrenada\n",
    "# y 'X_test_scaled' y 'y_test' son tus datos de prueba\n",
    "y_pred = model.predict(X_test_scaled)\n",
    "\n",
    "# Genera la matriz\n",
    "cm = confusion_matrix(y_test, y_pred)\n",
    "\n",
    "# Visualízala\n",
    "sns.heatmap(cm, annot=True, fmt='d', cmap='Blues')\n",
    "plt.xlabel('Predicción')\n",
    "plt.ylabel('Valor Real')\n",
    "plt.show()"
   ]
  },
  {
   "cell_type": "code",
   "execution_count": 4,
   "id": "f4346f54",
   "metadata": {},
   "outputs": [
    {
     "name": "stdout",
     "output_type": "stream",
     "text": [
      "               precision    recall  f1-score   support\n",
      "\n",
      "No Fraude (0)       1.00      0.83      0.90    296691\n",
      "   Fraude (1)       0.05      0.78      0.09      3309\n",
      "\n",
      "     accuracy                           0.83    300000\n",
      "    macro avg       0.52      0.80      0.50    300000\n",
      " weighted avg       0.99      0.83      0.89    300000\n",
      "\n"
     ]
    }
   ],
   "source": [
    "# Imprime un reporte completo\n",
    "print(classification_report(y_test, y_pred, target_names=['No Fraude (0)', 'Fraude (1)']))"
   ]
  }
 ],
 "metadata": {
  "kernelspec": {
   "display_name": "base",
   "language": "python",
   "name": "python3"
  },
  "language_info": {
   "codemirror_mode": {
    "name": "ipython",
    "version": 3
   },
   "file_extension": ".py",
   "mimetype": "text/x-python",
   "name": "python",
   "nbconvert_exporter": "python",
   "pygments_lexer": "ipython3",
   "version": "3.12.7"
  }
 },
 "nbformat": 4,
 "nbformat_minor": 5
}
